{
  "nbformat": 4,
  "nbformat_minor": 0,
  "metadata": {
    "colab": {
      "provenance": [],
      "authorship_tag": "ABX9TyPgsZUvCiUSkkbGxJS9q3eB",
      "include_colab_link": true
    },
    "kernelspec": {
      "name": "python3",
      "display_name": "Python 3"
    },
    "language_info": {
      "name": "python"
    }
  },
  "cells": [
    {
      "cell_type": "markdown",
      "metadata": {
        "id": "view-in-github",
        "colab_type": "text"
      },
      "source": [
        "<a href=\"https://colab.research.google.com/github/NittinD/Library-Management-System/blob/main/Untitled13.ipynb\" target=\"_parent\"><img src=\"https://colab.research.google.com/assets/colab-badge.svg\" alt=\"Open In Colab\"/></a>"
      ]
    },
    {
      "cell_type": "code",
      "execution_count": null,
      "metadata": {
        "id": "FnFZms61vNUq"
      },
      "outputs": [],
      "source": [
        "Library Management System\n",
        "\n",
        "Jun 2024 - Jun 2024 -Developed a Library Management System to manage book borrowing, returning, adding new books and fines.\n",
        "\n",
        "-Implemented using OOP principles for maintainable and scalable code.\n",
        "\n",
        "-used Key OOP Concepts classes, inheritance, polymorphism, encapsulation, and abstraction."
      ]
    },
    {
      "cell_type": "markdown",
      "source": [],
      "metadata": {
        "id": "d8jDlBMivVT8"
      }
    },
    {
      "cell_type": "code",
      "source": [
        "class libitem:\n",
        "  def __init__(self,bookid,author,astatus):\n",
        "    self.id=bookid\n",
        "    self.author=author\n",
        "    self.astatus=astatus\n",
        "\n",
        "  def borrow(self):\n",
        "    if self.astatus>0:\n",
        "      self.astatus-=1\n",
        "      return f\"congrats this book  is given to u for a week\"\n",
        "    else:\n",
        "      return f\"apologies! this book is not available\"\n",
        "\n",
        "  def breturn(self):\n",
        "    self.astatus+=1\n",
        "    return f\"the book is added back in our sys\"\n",
        "\n",
        "class book(libitem):\n",
        "  def __init__(self,bookid,author,astatus,isbn):\n",
        "    super().__init__(bookid,author,astatus)\n",
        "    self.isbn=isbn\n",
        "\n",
        "  def given(self):\n",
        "    return f\"book with {self.isbn} is issued and {super().borrow()} now total books are {str(self.astatus)}\"\n",
        "\n",
        "  def taken(self):\n",
        "    return f\"book with {self.isbn} is returned by u and {super().breturn()} now total books are {str(self.astatus)}\"\n",
        "\n",
        "class user(libitem):\n",
        "  def __init__(self,bookid,author,astatus,name,bhist):\n",
        "    super().__init__(bookid,author,astatus)\n",
        "    self.name=name\n",
        "    self.bhist=[]\n",
        "  def borrow_item(self,book):\n",
        "    self.book=book\n",
        "    if super().borrow():\n",
        "      self.bhist.append(self.book)\n",
        "      return f\"{self.name} has taken {self.bhist} from us \"\n",
        "    else:\n",
        "      return f\"{self.name} come later\"\n",
        "  def return_item(self,book):\n",
        "    self.book=book\n",
        "    if self.book in self.bhist:\n",
        "      self.bhist.remove(self.book)\n",
        "      super().breturn()\n",
        "      return f'oh! {self.name} completed reading {self.book} and {self.bhist} written by {self.author}'\n",
        "    else:\n",
        "      return f\"please check the book id.this book from another lib\"\n",
        "  def search(self,book):\n",
        "    self.book=book\n",
        "    if self.book in self.bhist:\n",
        "      return f\"available give m 5min\"\n",
        "\n",
        "class librarian(user):\n",
        "  def __init__(self,bookid,author,astatus,name,bhist):\n",
        "    super().__init__(bookid,author,astatus,name,bhist)\n",
        "\n",
        "\n",
        "  def due(self,idate,rdate):\n",
        "    self.idate=idate\n",
        "    self.rdate=rdate\n",
        "    from datetime import datetime,timedelta\n",
        "    date='%d%B'\n",
        "    d1=datetime.strptime(self.idate,date)\n",
        "    d2=datetime.strptime(self.rdate,date)\n",
        "\n",
        "    if d2-d1<timedelta(7):\n",
        "      fine='10'\n",
        "      return f\"rs {fine} fine\"\n",
        "    else:\n",
        "      fine='110'\n",
        "      return f\"rs {fine} fine only left \"\n",
        "\n",
        "  def new_item(self,new):\n",
        "    self.new=new\n",
        "    return f\"new {self.new} added\"\n",
        "\n",
        "class lib:\n",
        "  def __init__(self):\n",
        "    self.items=[]\n",
        "    self.member=[]\n",
        "\n",
        "  def search(self,item):\n",
        "    res=[]\n",
        "    for i in self.items:\n",
        "      if item in i.author:\n",
        "        res.append(item)\n",
        "    return res\n",
        "\n",
        "\n",
        "\n",
        "\n",
        "\n",
        "\n",
        "\n",
        "\n",
        "\n",
        "\n",
        "\n",
        "\n",
        "\n",
        "\n",
        "\n",
        "\n"
      ],
      "metadata": {
        "id": "s1w1gPTcvW1J"
      },
      "execution_count": 2,
      "outputs": []
    },
    {
      "cell_type": "code",
      "source": [
        "# Create instances of LibItem, Book, User, Librarian, and Lib classes\n",
        "item1 = libitem(bookid=1, author=\"Author1\", astatus=5)\n",
        "book1 = book(bookid=2, author=\"Author2\", astatus=3, isbn=\"1234567890\")\n",
        "user1 = user(bookid=3, author=\"Author3\", astatus=2, name=\"User1\", bhist=[])\n",
        "librarian1 = librarian(bookid=4, author=\"Author4\", astatus=1, name=\"Librarian1\", bhist=[])\n",
        "\n",
        "# Test borrowing and returning a book by a user\n",
        "user1.borrow_item(book1)\n",
        "user1.return_item(book1)\n",
        "\n",
        "# Test checking due fines by a librarian\n",
        "print(librarian1.due(idate='14june', rdate=\"14july\"))\n",
        "\n",
        "# Test searching for items in the library\n",
        "library = lib()\n",
        "library.items = [item1, book1]\n",
        "print(library.search(\"Author1\"))\n"
      ],
      "metadata": {
        "colab": {
          "base_uri": "https://localhost:8080/"
        },
        "id": "zGBMMmXPwPup",
        "outputId": "46a4c5e7-42cd-4277-a8d9-e49415fce85b"
      },
      "execution_count": 5,
      "outputs": [
        {
          "output_type": "stream",
          "name": "stdout",
          "text": [
            "Due fine is: Rs 110\n",
            "[<__main__.libitem object at 0x7cef36fd1890>]\n"
          ]
        }
      ]
    },
    {
      "cell_type": "code",
      "source": [],
      "metadata": {
        "id": "ojRFpbSuwpIO"
      },
      "execution_count": null,
      "outputs": []
    }
  ]
}